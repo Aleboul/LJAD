{
  "nbformat": 4,
  "nbformat_minor": 0,
  "metadata": {
    "colab": {
      "name": "Untitled1.ipynb",
      "provenance": [],
      "collapsed_sections": []
    },
    "kernelspec": {
      "name": "python3",
      "display_name": "Python 3"
    },
    "language_info": {
      "name": "python"
    }
  },
  "cells": [
    {
      "cell_type": "code",
      "metadata": {
        "id": "dXd4eO6xNLse"
      },
      "source": [
        "import numpy as np\n",
        "import pandas as pd\n",
        "import matplotlib.pyplot as plt\n",
        "plt.style.use('seaborn')\n",
        "from matplotlib import cm\n",
        "from tqdm import tqdm\n",
        "import seaborn as sns"
      ],
      "execution_count": 1,
      "outputs": []
    },
    {
      "cell_type": "code",
      "metadata": {
        "id": "ZbptZIsK-9nM"
      },
      "source": [
        "def ecdf(data, missing):\n",
        "\t\"\"\" Compute ECDF  with missing data \n",
        "\t\t\n",
        "\t\tInputs\n",
        "\t\t------\n",
        "\t\tdata : array of data\n",
        "\t\tmissing : index of missing data\n",
        "\t\t\n",
        "\t\tOutputs\n",
        "\t\t-------\n",
        "\t\tempirical cumulative distribution function\n",
        "\t\"\"\"\n",
        "\tindex = np.argsort(data)\n",
        "\tecdf = np.zeros(len(index))\n",
        "\tfor i in index:\n",
        "\t\tecdf[i] = (1.0 / np.sum(missing)) * np.sum((data <= data[i]) * missing) # compute ecdf\n",
        "\t\t\n",
        "        \n",
        "\treturn ecdf\n",
        "\t\n",
        "def dist(X, lmbd, missing):\n",
        "\t\"\"\"\n",
        "\t\tCompute matrix of F-Madogram (a une constante pres) using the empirical cumulative distribution function\n",
        "\t\t\n",
        "\t\tInputs\n",
        "\t\t------\n",
        "\t\tX : a matrix composed of ecdf\n",
        "\t\tlmbd : a parameter between 0 and 1\n",
        "\t\tmissing : vector indicate if we have the complete value\n",
        "\n",
        "\t\tOutputs\n",
        "\t\t-------\n",
        "\t\tA matrix with quantity equals to 0 if i=j (diagonal) and equals to sum_t=1^T |F(X_t)^{\\lambda} - G(Y_t)^{1-\\lambda}| if i \\neq j\n",
        "\t\"\"\"\n",
        "\tncols = X.shape[1]\n",
        "\tnrows = X.shape[0]\n",
        "\tcol_index = np.where(missing == 1)\n",
        "\tX = X [:, col_index]\n",
        "\tdist = np.zeros([nrows, nrows])\n",
        "\tfor i in range(0,nrows):\n",
        "\t\tfor j in range(0,i):\n",
        "\t\t\tif i == j:\n",
        "\t\t\t\tdist[i,i] = 0\n",
        "\t\t\telse :\n",
        "\t\t\t\tF_x = np.squeeze(X[j,:])\n",
        "\t\t\t\tG_y = np.squeeze(X[i,:])\n",
        "\t\t\t\td = np.linalg.norm(np.power(F_x,lmbd) - np.power(G_y,1-lmbd), ord = 1) - (lmbd) * np.sum(1-np.power(F_x,lmbd)) - (1-lmbd) * np.sum(1 - np.power(G_y, 1 - lmbd))\n",
        "\t\t\t\tdist[i,j] = d\n",
        "\t\t\t\tdist[j,i] = d\n",
        "\t\t\t\t\n",
        "\treturn dist\n",
        "\t\n",
        "def fmado(x, lmbd):\n",
        "\t\"\"\"\n",
        "\t\tThis function\n",
        "\t\t\n",
        "\t\tInputs\n",
        "\t\t------\n",
        "\t\tx : a matrix\n",
        "\t\tlmbd : constant between 0 and 1 use for the lambda F-madogram\n",
        "\n",
        "\t\tOutputs\n",
        "\t\t-------\n",
        "\t\tA matrix equals to 0 if i = j and equals to |F(X)^{\\lambda} - G(Y)^{1-\\lambda}|\n",
        "\t\"\"\"\n",
        "\t\n",
        "\tNnb = x.shape[1] // 2 \n",
        "\tTnb = x.shape[0]\n",
        "\t\n",
        "\t#--- Distance Matrix\n",
        "\t#--- F-Madogram\n",
        "\tV = np.zeros([Tnb, Nnb])\n",
        "\tfor p in range(0, Nnb):\n",
        "\t\tx_vec = np.array(x[:,p]) # x\n",
        "\t\tmiss = np.array(x[:, Nnb + p])\n",
        "\t\tFemp = ecdf(x_vec, miss)\n",
        "\t\tV[:,p] = Femp \n",
        "\t# With Madogram\n",
        "\tcross_missing = np.squeeze(np.multiply(x[:,Nnb], x[:, Nnb + 1]))\n",
        "\tFmado = dist(np.transpose(V),lmbd = lmbd, missing = cross_missing) / (2 * np.sum(cross_missing)) + (1/2) * ((1 - lmbd*(1-lmbd))/ ((2-lmbd)*(1+lmbd))) # np.sum(cross_missing)\n",
        "\t\n",
        "\treturn Fmado , np.sum(cross_missing)\n",
        "\n",
        "def simu(target):\n",
        "\t\"\"\"\n",
        "\t\tPerform multiple simulation of the estimation of FMadogram with an increasing length of sample\n",
        "\n",
        "\t\tInputs\n",
        "\t\t------\n",
        "\n",
        "\t\ttarget : a list which contain the following parameters\n",
        "\t\t\t\t- niter = number of replication\n",
        "\t\t\t\t- simulation = law that generate the data\n",
        "\t\t\t\t- presence = array that indicate the probabilities of being present\n",
        "\t\t\t\t- n_sample = array of multiple lengths of sample\n",
        "\n",
        "\t\tOutputs\n",
        "\t\t-------\n",
        "\t\tArray containing niter * length(n_sample) estimators of the FMadogram\n",
        "\n",
        "\t\"\"\"\n",
        "\toutput = []\n",
        "\n",
        "\tfor k in range(target['niter']):\n",
        "\t\tprobs = [] ; length = []\n",
        "\t\tFMado_store = np.zeros(len(target['n_sample']))\n",
        "\t\tobs_all = target['simulation'](mean, cov, np.max(target['n_sample']))\n",
        "\t\tI = np.transpose([ np.random.binomial(1, p, np.max(target['n_sample'])) for p in target['presence'] ])\n",
        "\t\tobs_all = np.concatenate([obs_all, I], axis = 1)\n",
        "\t\tfor i in range(0, len(target['n_sample'])):\n",
        "\t\t\tobs = obs_all[:target['n_sample'][i]]\n",
        "\t\t\tFMado, l = fmado(obs, target['lambda'])\n",
        "\t\t\tFMado_store[i] = FMado[0,1] \n",
        "\t\t\tprobs.append(target['presence']) ; length.append(l)\n",
        "\n",
        "\t\toutput_cbind = np.c_[FMado_store, target['n_sample'], np.arange(len(target['n_sample'])),length,probs]\n",
        "\t\toutput.append(output_cbind)\n",
        "\n",
        "\treturn output\n",
        "\n",
        "def simu_proba(target):\n",
        "\t\"\"\"\n",
        "\t\tPerform multiple simulation of the FMadogram estimator with an increase of the probability of missing\n",
        "\n",
        "\t\tInputs\n",
        "\t\t------\n",
        "\n",
        "\t\ttarget : a list which contain the following parameters\n",
        "\t\t\t\t- niter = number of replication\n",
        "\t\t\t\t- simulation = law that generate the data\n",
        "\t\t\t\t- presence = array that indicate the multiple probabilities of being present\n",
        "\t\t\t\t- n_sample = length of sample\n",
        "\n",
        "\t\tOutputs\n",
        "\t\t-------\n",
        "\t\tArray containing niter * length(presence) estimators of the FMadogram\n",
        "\t\"\"\"\n",
        "\n",
        "\toutput = []\n",
        "\tfor k in tqdm(range(target['niter'])):\n",
        "\t\tprobs = []\n",
        "\t\tFMado_store = np.zeros(len(target['presence']))\n",
        "\t\tobs_all = target['simulation'](mean, cov, np.max(target['n_sample']))\n",
        "\t\tfor i in range(0, len(target['presence'])):\n",
        "\t\t\tI = np.transpose([ np.random.binomial(1,p, np.max(target['n_sample'])) for p in target['presence'][i] ])\n",
        "\t\t\tobs = np.concatenate([obs_all, I], axis = 1)\n",
        "\t\t\tFMado = fmado(obs)\n",
        "\t\t\tFMado_store[i] = FMado[0,1]\n",
        "\t\t\tprobs.append(target['presence'][i])\n",
        "\t\toutput_cbind = np.c_[FMado_store, np.repeat(target['n_sample'], len(target['presence'])),np.arange(len(target['presence'])), probs]\n",
        "\t\toutput.append(output_cbind)\n",
        "\n",
        "\treturn output"
      ],
      "execution_count": 3,
      "outputs": []
    },
    {
      "cell_type": "code",
      "metadata": {
        "id": "zYUM7U2w_LmC"
      },
      "source": [
        "target = {}\n",
        "target['niter'] = 1000\n",
        "target['simulation'] = np.random.multivariate_normal\n",
        "target['presence'] = [0.5,0.5]\n",
        "#target['n_sample'] = [100, 250, 500, 1000, 5000, 10000]\n",
        "target['n_sample'] = [10000]\n",
        "target['lambda'] = 0.5\n",
        "\n",
        "mean = [0,0]\n",
        "cov = [[1,0],[0,1]]\n",
        "\t\n",
        "dataset = simu(target)\n",
        "df_FMado = pd.DataFrame(np.concatenate(dataset))\n",
        "df_FMado.columns = ['FMado', 'n', 'gp','length', 'prob_X', 'prob_Y']"
      ],
      "execution_count": 4,
      "outputs": []
    },
    {
      "cell_type": "code",
      "metadata": {
        "colab": {
          "base_uri": "https://localhost:8080/",
          "height": 424
        },
        "id": "CI20WbyBwTXS",
        "outputId": "edc0c0f0-6a7b-46ef-8c43-c0c2175ac6cb"
      },
      "source": [
        "df_FMado"
      ],
      "execution_count": 7,
      "outputs": [
        {
          "output_type": "execute_result",
          "data": {
            "text/html": [
              "<div>\n",
              "<style scoped>\n",
              "    .dataframe tbody tr th:only-of-type {\n",
              "        vertical-align: middle;\n",
              "    }\n",
              "\n",
              "    .dataframe tbody tr th {\n",
              "        vertical-align: top;\n",
              "    }\n",
              "\n",
              "    .dataframe thead th {\n",
              "        text-align: right;\n",
              "    }\n",
              "</style>\n",
              "<table border=\"1\" class=\"dataframe\">\n",
              "  <thead>\n",
              "    <tr style=\"text-align: right;\">\n",
              "      <th></th>\n",
              "      <th>FMado</th>\n",
              "      <th>n</th>\n",
              "      <th>gp</th>\n",
              "      <th>length</th>\n",
              "      <th>prob_X</th>\n",
              "      <th>prob_Y</th>\n",
              "      <th>FMado_scaled</th>\n",
              "    </tr>\n",
              "  </thead>\n",
              "  <tbody>\n",
              "    <tr>\n",
              "      <th>0</th>\n",
              "      <td>0.135241</td>\n",
              "      <td>10000.0</td>\n",
              "      <td>0.0</td>\n",
              "      <td>2544.0</td>\n",
              "      <td>0.5</td>\n",
              "      <td>0.5</td>\n",
              "      <td>0.184813</td>\n",
              "    </tr>\n",
              "    <tr>\n",
              "      <th>1</th>\n",
              "      <td>0.135480</td>\n",
              "      <td>10000.0</td>\n",
              "      <td>0.0</td>\n",
              "      <td>2524.0</td>\n",
              "      <td>0.5</td>\n",
              "      <td>0.5</td>\n",
              "      <td>0.208716</td>\n",
              "    </tr>\n",
              "    <tr>\n",
              "      <th>2</th>\n",
              "      <td>0.130768</td>\n",
              "      <td>10000.0</td>\n",
              "      <td>0.0</td>\n",
              "      <td>2546.0</td>\n",
              "      <td>0.5</td>\n",
              "      <td>0.5</td>\n",
              "      <td>-0.262446</td>\n",
              "    </tr>\n",
              "    <tr>\n",
              "      <th>3</th>\n",
              "      <td>0.135735</td>\n",
              "      <td>10000.0</td>\n",
              "      <td>0.0</td>\n",
              "      <td>2572.0</td>\n",
              "      <td>0.5</td>\n",
              "      <td>0.5</td>\n",
              "      <td>0.234243</td>\n",
              "    </tr>\n",
              "    <tr>\n",
              "      <th>4</th>\n",
              "      <td>0.134742</td>\n",
              "      <td>10000.0</td>\n",
              "      <td>0.0</td>\n",
              "      <td>2492.0</td>\n",
              "      <td>0.5</td>\n",
              "      <td>0.5</td>\n",
              "      <td>0.134934</td>\n",
              "    </tr>\n",
              "    <tr>\n",
              "      <th>...</th>\n",
              "      <td>...</td>\n",
              "      <td>...</td>\n",
              "      <td>...</td>\n",
              "      <td>...</td>\n",
              "      <td>...</td>\n",
              "      <td>...</td>\n",
              "      <td>...</td>\n",
              "    </tr>\n",
              "    <tr>\n",
              "      <th>995</th>\n",
              "      <td>0.135014</td>\n",
              "      <td>10000.0</td>\n",
              "      <td>0.0</td>\n",
              "      <td>2518.0</td>\n",
              "      <td>0.5</td>\n",
              "      <td>0.5</td>\n",
              "      <td>0.162098</td>\n",
              "    </tr>\n",
              "    <tr>\n",
              "      <th>996</th>\n",
              "      <td>0.135683</td>\n",
              "      <td>10000.0</td>\n",
              "      <td>0.0</td>\n",
              "      <td>2452.0</td>\n",
              "      <td>0.5</td>\n",
              "      <td>0.5</td>\n",
              "      <td>0.228988</td>\n",
              "    </tr>\n",
              "    <tr>\n",
              "      <th>997</th>\n",
              "      <td>0.129603</td>\n",
              "      <td>10000.0</td>\n",
              "      <td>0.0</td>\n",
              "      <td>2462.0</td>\n",
              "      <td>0.5</td>\n",
              "      <td>0.5</td>\n",
              "      <td>-0.378999</td>\n",
              "    </tr>\n",
              "    <tr>\n",
              "      <th>998</th>\n",
              "      <td>0.136762</td>\n",
              "      <td>10000.0</td>\n",
              "      <td>0.0</td>\n",
              "      <td>2543.0</td>\n",
              "      <td>0.5</td>\n",
              "      <td>0.5</td>\n",
              "      <td>0.336962</td>\n",
              "    </tr>\n",
              "    <tr>\n",
              "      <th>999</th>\n",
              "      <td>0.130649</td>\n",
              "      <td>10000.0</td>\n",
              "      <td>0.0</td>\n",
              "      <td>2499.0</td>\n",
              "      <td>0.5</td>\n",
              "      <td>0.5</td>\n",
              "      <td>-0.274350</td>\n",
              "    </tr>\n",
              "  </tbody>\n",
              "</table>\n",
              "<p>1000 rows × 7 columns</p>\n",
              "</div>"
            ],
            "text/plain": [
              "        FMado        n   gp  length  prob_X  prob_Y  FMado_scaled\n",
              "0    0.135241  10000.0  0.0  2544.0     0.5     0.5      0.184813\n",
              "1    0.135480  10000.0  0.0  2524.0     0.5     0.5      0.208716\n",
              "2    0.130768  10000.0  0.0  2546.0     0.5     0.5     -0.262446\n",
              "3    0.135735  10000.0  0.0  2572.0     0.5     0.5      0.234243\n",
              "4    0.134742  10000.0  0.0  2492.0     0.5     0.5      0.134934\n",
              "..        ...      ...  ...     ...     ...     ...           ...\n",
              "995  0.135014  10000.0  0.0  2518.0     0.5     0.5      0.162098\n",
              "996  0.135683  10000.0  0.0  2452.0     0.5     0.5      0.228988\n",
              "997  0.129603  10000.0  0.0  2462.0     0.5     0.5     -0.378999\n",
              "998  0.136762  10000.0  0.0  2543.0     0.5     0.5      0.336962\n",
              "999  0.130649  10000.0  0.0  2499.0     0.5     0.5     -0.274350\n",
              "\n",
              "[1000 rows x 7 columns]"
            ]
          },
          "metadata": {
            "tags": []
          },
          "execution_count": 7
        }
      ]
    },
    {
      "cell_type": "code",
      "metadata": {
        "colab": {
          "base_uri": "https://localhost:8080/",
          "height": 369
        },
        "id": "W7-rpyPwK2PN",
        "outputId": "a9208de2-960c-4923-ac14-1b419ad85928"
      },
      "source": [
        "def var_mado_missing(x, p_xy, p_x, p_y):\n",
        "  value = ((x ** 2 * (1-x)**2) / (1+x*(1-x))**2) * ( (p_xy**-1) / (1+2*x*(1-x)) - (p_x**-1)* (1-x) / (1+x+2*x*(1-x)) - (p_y**-1)*x / (2-x+2*x*(1-x)))\n",
        "  return value\n",
        "\n",
        "def gauss_function(x,x0, sigma):\n",
        "    return np.sqrt(1/ (2*np.pi * sigma**2)) * np.exp(-(x - x0) ** 2 / (2 * sigma**2))\n",
        "\n",
        "df_FMado['FMado_scaled'] = (df_FMado.FMado - df_FMado.groupby('n')['FMado'].transform('mean')) * np.sqrt(df_FMado.n)\n",
        "mean = 0\n",
        "sigma = np.sqrt(var_mado_missing(target['lambda'],(target['presence'][0])*(target['presence'][1]), target['presence'][0], target['presence'][1]))\n",
        "x = np.linspace(min(df_FMado['FMado_scaled']), max(df_FMado['FMado_scaled']), 1000)\n",
        "gauss = gauss_function(x,mean, sigma)\n",
        "\n",
        "cmap = cm.get_cmap('OrRd')\n",
        "sns.displot(data = df_FMado, x = \"FMado_scaled\", hue = \"n\", palette= \"crest\", kind = 'kde', common_norm = False, alpha = 0.2, fill = True, linewidth = 1.5)\n",
        "plt.plot(x,gauss, linestyle = '--')\n",
        "plt.show()"
      ],
      "execution_count": 8,
      "outputs": [
        {
          "output_type": "display_data",
          "data": {
            "image/png": "[encoded data removed]",
            "text/plain": [
              "<Figure size 432.5x360 with 1 Axes>"
            ]
          },
          "metadata": {
            "tags": [],
            "needs_background": "light"
          }
        }
      ]
    },
    {
      "cell_type": "code",
      "metadata": {
        "id": "o9kAQtbSFbt1",
        "colab": {
          "base_uri": "https://localhost:8080/"
        },
        "outputId": "558f2cf9-b560-403e-c7b5-97e7b96b6a11"
      },
      "source": [
        "df_FMado['FMado_scaled'].var()"
      ],
      "execution_count": 9,
      "outputs": [
        {
          "output_type": "execute_result",
          "data": {
            "text/plain": [
              "0.036003093217635715"
            ]
          },
          "metadata": {
            "tags": []
          },
          "execution_count": 9
        }
      ]
    },
    {
      "cell_type": "code",
      "metadata": {
        "colab": {
          "base_uri": "https://localhost:8080/"
        },
        "id": "G3_qXgnTW-IB",
        "outputId": "5bdf4c1b-665b-4545-e681-008fd5430b84"
      },
      "source": [
        "sigma**2"
      ],
      "execution_count": 10,
      "outputs": [
        {
          "output_type": "execute_result",
          "data": {
            "text/plain": [
              "0.06666666666666665"
            ]
          },
          "metadata": {
            "tags": []
          },
          "execution_count": 10
        }
      ]
    },
    {
      "cell_type": "code",
      "metadata": {
        "colab": {
          "base_uri": "https://localhost:8080/",
          "height": 444
        },
        "id": "xKFJd-XaE-vD",
        "outputId": "3e200f3e-62e8-4885-a632-09a229aaaf82"
      },
      "source": [
        "%matplotlib inline\n",
        "target = {}\n",
        "\n",
        "target['niter'] = 10\n",
        "target['simulation'] = np.random.multivariate_normal\n",
        "target['presence'] = [0.1,0.1]\n",
        "n_sample = [10,20,30,40,50,60,70,80,90,100]\n",
        "\n",
        "mean = [0,0]\n",
        "cov = [[1,0],[0,1]]\n",
        "\n",
        "lmbds = np.linspace(0.0,1,100)\n",
        "x = np.linspace(0, 1, 100)\n",
        "values = var_mado_missing(x,(target['presence'][0])*(target['presence'][1]), target['presence'][0],target['presence'][1])  \n",
        "\n",
        "fig, ax = plt.subplots(2,5, sharex = True)\n",
        "ax = ax.ravel()\n",
        "for i,n in enumerate(n_sample):\n",
        "  target['n_sample'] = [n]\n",
        "  var_lambda = []\n",
        "  for lmbd in tqdm(lmbds):\n",
        "    target['lambda'] = lmbd\n",
        "    output = simu(target)\n",
        "    df_FMado = pd.DataFrame(np.concatenate(output))\n",
        "    df_FMado.columns = ['FMado', 'n', 'length','gp', 'prob_X', 'prob_Y']\n",
        "    df_FMado['FMado_scaled'] = (df_FMado.FMado - df_FMado.groupby('n')['FMado'].transform('mean')) * np.sqrt(df_FMado.n)\n",
        "    output = df_FMado['FMado_scaled'].var()\n",
        "    var_lambda.append(output)\n",
        "  ax[i].plot(x, values, '--')\n",
        "  ax[i].plot(lmbds, var_lambda, '.', markersize = 5, alpha = 0.5, color = 'salmon')"
      ],
      "execution_count": null,
      "outputs": [
        {
          "output_type": "stream",
          "text": [
            "100%|██████████| 100/100 [00:01<00:00, 68.55it/s]\n",
            "100%|██████████| 100/100 [00:01<00:00, 53.05it/s]\n",
            "100%|██████████| 100/100 [00:02<00:00, 43.50it/s]\n",
            "100%|██████████| 100/100 [00:02<00:00, 35.71it/s]\n",
            "100%|██████████| 100/100 [00:03<00:00, 30.72it/s]\n",
            "100%|██████████| 100/100 [00:03<00:00, 27.73it/s]\n",
            "100%|██████████| 100/100 [00:03<00:00, 26.06it/s]\n",
            "100%|██████████| 100/100 [00:04<00:00, 22.48it/s]\n",
            "100%|██████████| 100/100 [00:04<00:00, 21.52it/s]\n",
            "100%|██████████| 100/100 [00:04<00:00, 20.08it/s]\n"
          ],
          "name": "stderr"
        },
        {
          "output_type": "display_data",
          "data": {
            "image/png": "[encoded data removed]",
            "text/plain": [
              "<Figure size 432x288 with 10 Axes>"
            ]
          },
          "metadata": {
            "tags": [],
            "needs_background": "light"
          }
        }
      ]
    }
  ]
}