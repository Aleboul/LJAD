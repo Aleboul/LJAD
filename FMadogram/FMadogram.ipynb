{
  "nbformat": 4,
  "nbformat_minor": 0,
  "metadata": {
    "colab": {
      "name": "Untitled2.ipynb",
      "provenance": [],
      "collapsed_sections": [],
      "toc_visible": true
    },
    "kernelspec": {
      "name": "python3",
      "display_name": "Python 3"
    },
    "language_info": {
      "name": "python"
    }
  },
  "cells": [
    {
      "cell_type": "code",
      "metadata": {
        "id": "fCvv5RlfqeYc"
      },
      "source": [
        "import numpy as np\n",
        "import pandas as pd\n",
        "import matplotlib.pyplot as plt\n",
        "plt.style.use('seaborn')\n",
        "from matplotlib import cm\n",
        "from tqdm import tqdm\n",
        "import seaborn as sns"
      ],
      "execution_count": null,
      "outputs": []
    },
    {
      "cell_type": "code",
      "metadata": {
        "id": "mb7dqA4MqKHR"
      },
      "source": [
        "def ecdf(data, missing):\n",
        "\t\"\"\" Compute ECDF  with missing data \n",
        "\t\t\n",
        "\t\tInputs\n",
        "\t\t------\n",
        "\t\tdata : array of data\n",
        "\t\tmissing : index of missing data\n",
        "\t\t\n",
        "\t\tOutputs\n",
        "\t\t-------\n",
        "\t\tempirical cumulative distribution function\n",
        "\t\"\"\"\n",
        "\tindex = np.argsort(data)\n",
        "\tecdf = np.zeros(len(index))\n",
        "\tfor i in index:\n",
        "\t\tecdf[i] = (1.0 / np.sum(missing)) * np.sum((data <= data[i]) * missing) # compute ecdf\n",
        "\t\t\n",
        "        \n",
        "\treturn ecdf\n",
        "\t\n",
        "def dist(X, lmbd, missing):\n",
        "\t\"\"\"\n",
        "\t\tCompute matrix of F-Madogram (a une constante pres) using the empirical cumulative distribution function\n",
        "\t\t\n",
        "\t\tInputs\n",
        "\t\t------\n",
        "\t\tX : a matrix composed of ecdf\n",
        "\t\tlmbd : a parameter between 0 and 1\n",
        "\t\tmissing : vector indicate if we have the complete value\n",
        "\n",
        "\t\tOutputs\n",
        "\t\t-------\n",
        "\t\tA matrix with quantity equals to 0 if i=j (diagonal) and equals to sum_t=1^T |F(X_t)^{\\lambda} - G(Y_t)^{1-\\lambda}| if i \\neq j\n",
        "\t\"\"\"\n",
        "\tncols = X.shape[1]\n",
        "\tnrows = X.shape[0]\n",
        "\tX = np.multiply(X, missing)\n",
        "\tdist = np.zeros([nrows, nrows])\n",
        "\tfor i in range(0,nrows):\n",
        "\t\tfor j in range(0,i):\n",
        "\t\t\tif i == j:\n",
        "\t\t\t\tdist[i,i] = 0\n",
        "\t\t\telse :\n",
        "\t\t\t\tF_x = X[i,:]\n",
        "\t\t\t\tG_y = X[j,:]\n",
        "\t\t\t\td = np.linalg.norm(np.power(F_x,lmbd)-np.power(G_y,1-lmbd), ord = 1)\n",
        "\t\t\t\tdist[i,j] = d\n",
        "\t\t\t\tdist[j,i] = d\n",
        "\t\t\t\t\n",
        "\treturn dist\n",
        "\t\n",
        "def fmado(x, lmbd=0.5):\n",
        "\t\"\"\"\n",
        "\t\tThis function\n",
        "\t\t\n",
        "\t\tInputs\n",
        "\t\t------\n",
        "\t\tx : a matrix\n",
        "\t\tlmbd : constant between 0 and 1 use for the lambda F-madogram\n",
        "\n",
        "\t\tOutputs\n",
        "\t\t-------\n",
        "\t\tA matrix equals to 0 if i = j and equalts to |F(X)^{\\lambda} - G(Y)^{1-\\lambda}|\n",
        "\t\"\"\"\n",
        "\t\n",
        "\tNnb = x.shape[1] // 2\n",
        "\tTnb = x.shape[0]\n",
        "\t\n",
        "\t#--- Distance Matrix\n",
        "\t#--- F-Madogram\n",
        "\tV = np.zeros([Tnb, Nnb])\n",
        "\tfor p in range(0, Nnb):\n",
        "\t\tx_vec = np.array(x[:,p]) # x\n",
        "\t\tmiss = np.array(x[:, Nnb + p])\n",
        "\t\tFemp = ecdf(x_vec, miss)\n",
        "\t\tV[:,p] = Femp\n",
        "\t# With Madogram\n",
        "\tcross_missing = np.array([np.multiply(x[:,Nnb], x[:,Nnb +p]) for p in range(1, Nnb)])\n",
        "\tFmado = dist(np.transpose(V),lmbd = 0.5, missing = cross_missing) / (2 * np.sum(cross_missing))\n",
        "\t\n",
        "\treturn Fmado\n",
        "\n",
        "def simu(target):\n",
        "\t\"\"\"\n",
        "\t\tPerform multiple simulation of the estimation of FMadogram with an increasing length of sample\n",
        "\n",
        "\t\tInputs\n",
        "\t\t------\n",
        "\n",
        "\t\ttarget : a list which contain the following parameters\n",
        "\t\t\t\t- niter = number of replication\n",
        "\t\t\t\t- simulation = law that generate the data\n",
        "\t\t\t\t- probs_missing = array that indicate the probabilities of missing\n",
        "\t\t\t\t- n_sample = array of multiple lengths of sample\n",
        "\n",
        "\t\tOutputs\n",
        "\t\t-------\n",
        "\t\tArray containing niter * length(n_sample) estimators of the FMadogram\n",
        "\n",
        "\t\"\"\"\n",
        "\toutput = []\n",
        "\n",
        "\tfor k in tqdm(range(target['niter'])):\n",
        "\t\tprobs = []\n",
        "\t\tFMado_store = np.zeros(len(target['n_sample']))\n",
        "\t\tobs_all = target['simulation'](mean, cov, np.max(target['n_sample']))\n",
        "\t\tI = np.transpose([ np.random.binomial(1, 1-p, np.max(target['n_sample'])) for p in target['probs_missing'] ])\n",
        "\t\tobs_all = np.concatenate([obs_all, I], axis = 1)\n",
        "\t\tfor i in range(0, len(target['n_sample'])):\n",
        "\t\t\tobs = obs_all[:target['n_sample'][i]]\n",
        "\t\t\tFMado = fmado(obs)\n",
        "\t\t\tFMado_store[i] = FMado[0,1]\n",
        "\t\t\tprobs.append(target['probs_missing'])\n",
        "\n",
        "\t\toutput_cbind = np.c_[FMado_store, target['n_sample'], np.arange(len(target['n_sample'])), probs]\n",
        "\t\toutput.append(output_cbind)\n",
        "\n",
        "\treturn output\n",
        "\n",
        "def simu_proba(target):\n",
        "\t\"\"\"\n",
        "\t\tPerform multiple simulation of the FMadogram estimator with an increase of the probability of missing\n",
        "\n",
        "\t\tInputs\n",
        "\t\t------\n",
        "\n",
        "\t\ttarget : a list which contain the following parameters\n",
        "\t\t\t\t- niter = number of replication\n",
        "\t\t\t\t- simulation = law that generate the data\n",
        "\t\t\t\t- probs_missing = array that indicate the multiple probabilities of missing\n",
        "\t\t\t\t- n_sample = length of sample\n",
        "\n",
        "\t\tOutputs\n",
        "\t\t-------\n",
        "\t\tArray containing niter * length(probs_missing) estimators of the FMadogram\n",
        "\t\"\"\"\n",
        "\n",
        "\toutput = []\n",
        "\tfor k in tqdm(range(target['niter'])):\n",
        "\t\tprobs = []\n",
        "\t\tFMado_store = np.zeros(len(target['probs_missing']))\n",
        "\t\tobs_all = target['simulation'](mean, cov, np.max(target['n_sample']))\n",
        "\t\tfor i in range(0, len(target['probs_missing'])):\n",
        "\t\t\tI = np.transpose([ np.random.binomial(1,1-p, np.max(target['n_sample'])) for p in target['probs_missing'][i] ])\n",
        "\t\t\tobs = np.concatenate([obs_all, I], axis = 1)\n",
        "\t\t\tFMado = fmado(obs)\n",
        "\t\t\tFMado_store[i] = FMado[0,1]\n",
        "\t\t\tprobs.append(target['probs_missing'][i])\n",
        "\t\toutput_cbind = np.c_[FMado_store, np.repeat(target['n_sample'], len(target['probs_missing'])),np.arange(len(target['probs_missing'])), probs]\n",
        "\t\toutput.append(output_cbind)\n",
        "\n",
        "\treturn output"
      ],
      "execution_count": null,
      "outputs": []
    },
    {
      "cell_type": "code",
      "metadata": {
        "colab": {
          "base_uri": "https://localhost:8080/"
        },
        "id": "x5HY1aR2ksuJ",
        "outputId": "93d848b9-6e05-4a60-a529-cb115838e49b"
      },
      "source": [
        "target = {}\n",
        "\n",
        "target['niter'] = 1000\n",
        "target['simulation'] = np.random.multivariate_normal\n",
        "target['probs_missing'] = [0.0,0.0]\n",
        "target['n_sample'] = [100, 250, 500, 1000, 5000, 10000]\n",
        "\n",
        "mean = [0,0]\n",
        "cov = [[1,0.25],[0.25,1]]\n",
        "\t\n",
        "dataset = simu(target)\n",
        "df_FMado = pd.DataFrame(np.concatenate(dataset))\n",
        "df_FMado.columns = ['FMado', 'n', 'gp', 'prob_X', 'prob_Y']"
      ],
      "execution_count": null,
      "outputs": [
        {
          "output_type": "stream",
          "text": [
            "100%|██████████| 1000/1000 [16:41<00:00,  1.00s/it]\n"
          ],
          "name": "stderr"
        }
      ]
    },
    {
      "cell_type": "code",
      "metadata": {
        "id": "ZK7nBGO5bByb"
      },
      "source": [
        "df_FMado['FMado_scaled'] = (df_FMado.FMado - df_FMado.groupby('n')['FMado'].transform('mean')) * np.sqrt(df_FMado.n)"
      ],
      "execution_count": null,
      "outputs": []
    },
    {
      "cell_type": "code",
      "metadata": {
        "colab": {
          "base_uri": "https://localhost:8080/",
          "height": 369
        },
        "id": "HuNGwrjDbPv6",
        "outputId": "fbc223ff-57e4-4aa2-876a-9d603554d732"
      },
      "source": [
        "cmap = cm.get_cmap('OrRd')\n",
        "sns.displot(data = df_FMado, x = \"FMado_scaled\", hue = \"n\", palette= cmap, kind = 'kde')\n",
        "plt.show()"
      ],
      "execution_count": null,
      "outputs": [
        {
          "output_type": "display_data",
          "data": {
            "image/png": "[encoded data removed]",
            "text/plain": [
              "<Figure size 432.5x360 with 1 Axes>"
            ]
          },
          "metadata": {
            "tags": [],
            "needs_background": "light"
          }
        }
      ]
    },
    {
      "cell_type": "code",
      "metadata": {
        "id": "fF19kmFQ3sd9",
        "colab": {
          "base_uri": "https://localhost:8080/"
        },
        "outputId": "4ca55d92-3a44-4382-9b18-3df0390676ba"
      },
      "source": [
        "target = {}\n",
        "\n",
        "target['niter'] = 1000\n",
        "target['simulation'] = np.random.multivariate_normal\n",
        "target['probs_missing'] = [[0.0,0.0],[0.1,0.1],[0.2,0.2],[0.3,0.3],[0.4,0.4],[0.5,0.5]]\n",
        "target['n_sample'] = [1000]\n",
        "\n",
        "mean = [0,0]\n",
        "cov = [[1,0.25],[0.25,1]]\n",
        "\t\n",
        "dataset = simu_proba(target)\n",
        "df_FMado = pd.DataFrame(np.concatenate(dataset))\n",
        "df_FMado.columns = ['FMado', 'n','gp', 'prob_X', 'prob_Y']"
      ],
      "execution_count": null,
      "outputs": [
        {
          "output_type": "stream",
          "text": [
            "100%|██████████| 1000/1000 [03:34<00:00,  4.67it/s]\n"
          ],
          "name": "stderr"
        }
      ]
    },
    {
      "cell_type": "code",
      "metadata": {
        "colab": {
          "base_uri": "https://localhost:8080/"
        },
        "id": "atsnRvtBIcMB",
        "outputId": "9774a5fd-ff15-4eed-f47d-a301fe2099fb"
      },
      "source": [
        "print(df_FMado)"
      ],
      "execution_count": null,
      "outputs": [
        {
          "output_type": "stream",
          "text": [
            "         FMado       n   gp  prob_X  prob_Y\n",
            "0     0.116876  1000.0  0.0     0.0     0.0\n",
            "1     0.118664  1000.0  1.0     0.1     0.1\n",
            "2     0.117770  1000.0  2.0     0.2     0.2\n",
            "3     0.117205  1000.0  3.0     0.3     0.3\n",
            "4     0.109348  1000.0  4.0     0.4     0.4\n",
            "...        ...     ...  ...     ...     ...\n",
            "5995  0.113526  1000.0  1.0     0.1     0.1\n",
            "5996  0.110856  1000.0  2.0     0.2     0.2\n",
            "5997  0.112584  1000.0  3.0     0.3     0.3\n",
            "5998  0.112192  1000.0  4.0     0.4     0.4\n",
            "5999  0.108766  1000.0  5.0     0.5     0.5\n",
            "\n",
            "[6000 rows x 5 columns]\n"
          ],
          "name": "stdout"
        }
      ]
    },
    {
      "cell_type": "code",
      "metadata": {
        "colab": {
          "base_uri": "https://localhost:8080/"
        },
        "id": "u6uFNw-zRDKH",
        "outputId": "23c1efce-276e-44ec-dc74-43d530b446d5"
      },
      "source": [
        "target = {}\n",
        "\n",
        "target['niter'] = 1000\n",
        "target['simulation'] = np.random.multivariate_normal\n",
        "target['probs_missing'] = [[0.0,0.0],[0.1,0.1],[0.2,0.2],[0.3,0.3],[0.4,0.4],[0.5,0.5]]\n",
        "n_sample = [50, 100, 250, 500, 1000, 5000, 10000]\n",
        "\n",
        "\n",
        "mean = [0,0]\n",
        "cov = [[1,0.25],[0.25,1]]\n",
        "\n",
        "dataset = []\n",
        "for n in n_sample:\n",
        "  target['n_sample'] = [n]\n",
        "  output = simu_proba(target)\n",
        "  dataset.extend(output)\n",
        "\n",
        "df_FMado = pd.DataFrame(np.concatenate(dataset))\n",
        "df_FMado.columns = ['FMado', 'n','gp', 'prob_X', 'prob_Y']"
      ],
      "execution_count": null,
      "outputs": [
        {
          "output_type": "stream",
          "text": [
            "100%|██████████| 1000/1000 [00:11<00:00, 89.93it/s]\n",
            "100%|██████████| 1000/1000 [00:20<00:00, 48.25it/s]\n",
            "100%|██████████| 1000/1000 [00:52<00:00, 18.89it/s]\n",
            "100%|██████████| 1000/1000 [01:52<00:00,  8.87it/s]\n",
            "100%|██████████| 1000/1000 [03:35<00:00,  4.65it/s]\n",
            "100%|██████████| 1000/1000 [24:55<00:00,  1.50s/it]\n",
            "100%|██████████| 1000/1000 [1:07:06<00:00,  4.03s/it]\n"
          ],
          "name": "stderr"
        }
      ]
    },
    {
      "cell_type": "code",
      "metadata": {
        "id": "wnGPLcz8kybA"
      },
      "source": [
        "df_FMado['FMado_scaled'] = (df_FMado.FMado - df_FMado.groupby('n')['FMado'].transform('mean')) * np.sqrt(df_FMado.n)"
      ],
      "execution_count": null,
      "outputs": []
    },
    {
      "cell_type": "code",
      "metadata": {
        "colab": {
          "base_uri": "https://localhost:8080/",
          "height": 279
        },
        "id": "n-Di8uNm8KIt",
        "outputId": "ef6a5b56-4809-498f-df7f-d2e7e22398c1"
      },
      "source": [
        "cmap = \"OrRd\"\n",
        "fig, ax = plt.subplots()\n",
        "for prob in target[\"probs_missing\"]:\n",
        "\n",
        "  sample = df_FMado.loc[df_FMado['prob_X'] == prob[0], :].copy()\n",
        "  sample['FMado_scaled'] = (sample.FMado - sample.groupby('n')['FMado'].transform('mean')) * np.sqrt(sample.n)\n",
        "  sns.kdeplot(data = sample, x = \"FMado_scaled\", hue = \"n\", palette= cmap, ax = ax)\n",
        "\n"
      ],
      "execution_count": null,
      "outputs": [
        {
          "output_type": "display_data",
          "data": {
            "image/png": "[encoded data removed]",
            "text/plain": [
              "<Figure size 432x288 with 1 Axes>"
            ]
          },
          "metadata": {
            "tags": [],
            "needs_background": "light"
          }
        }
      ]
    }
  ]
}